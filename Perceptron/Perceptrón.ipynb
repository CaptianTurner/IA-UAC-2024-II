{
  "nbformat": 4,
  "nbformat_minor": 0,
  "metadata": {
    "colab": {
      "provenance": []
    },
    "kernelspec": {
      "name": "python3",
      "display_name": "Python 3"
    },
    "language_info": {
      "name": "python"
    }
  },
  "cells": [
    {
      "cell_type": "code",
      "execution_count": 8,
      "metadata": {
        "colab": {
          "base_uri": "https://localhost:8080/"
        },
        "id": "e1xUG50I8ttG",
        "outputId": "024c2fac-d859-4239-d728-15ff807b86f6"
      },
      "outputs": [
        {
          "output_type": "stream",
          "name": "stdout",
          "text": [
            "\n",
            "Entrenando con función de activación: Lineal\n",
            "Pesos entrenados: [-0.11111111 -0.05555556]\n",
            "Umbral entrenado: -0.5555555555555551\n",
            "\n",
            "Entrenando con función de activación: Escalón\n",
            "Pesos entrenados: [-0.1613616  -0.10144257]\n",
            "Umbral entrenado: -0.07480432499700118\n",
            "\n",
            "Entrenando con función de activación: Sigmoide\n",
            "Pesos entrenados: [-0.10256353 -0.05128176]\n",
            "Umbral entrenado: -0.0512817631916448\n",
            "\n",
            "Entrenando con función de activación: ReLU\n",
            "Pesos entrenados: [-0.11111111 -0.05555556]\n",
            "Umbral entrenado: -0.5555555555555551\n"
          ]
        }
      ],
      "source": [
        "#Elaborado por : Cesar Rogelio Turner Minaya\n",
        "import numpy as np\n",
        "\n",
        "# Definimos las funciones de activación\n",
        "def funcion_lineal(y):\n",
        "    return y\n",
        "\n",
        "def funcion_escalon(y):\n",
        "    return 1 if y >= 0 else 0\n",
        "\n",
        "def funcion_sigmoide(y):\n",
        "    return 1 / (1 + np.exp(-y))\n",
        "\n",
        "def funcion_relu(y):\n",
        "    return max(0, y)\n",
        "\n",
        "# Algoritmo de entrenamiento\n",
        "def algoritmo_entrenamiento(X, D, alpha, funcion_activacion, max_epochs=10000):\n",
        "    n, m = X.shape  # n = número de ejemplos, m = número de características\n",
        "    W = np.random.uniform(-1, 1, m)  # Inicializamos los pesos aleatoriamente\n",
        "    theta = np.random.uniform(-1, 1)  # Inicializamos el umbral aleatoriamente\n",
        "\n",
        "    for epoch in range(max_epochs):\n",
        "        total_error = 0\n",
        "        for i in range(n):\n",
        "            # Propagar: calcular Y\n",
        "            Y = np.dot(X[i], W) - theta\n",
        "            y_pred = funcion_activacion(Y)\n",
        "\n",
        "            # Calcular el error\n",
        "            error = D[i] - y_pred\n",
        "            total_error += abs(error)\n",
        "\n",
        "            # Retropropagación: actualizar los pesos y el umbral\n",
        "            W += alpha * error * X[i]\n",
        "            theta -= alpha * error\n",
        "\n",
        "        # Verificar si el error total es aceptable\n",
        "        if total_error == 0:\n",
        "            break\n",
        "\n",
        "    return W, theta\n",
        "\n",
        "# Ejemplo de uso con diferentes funciones de activación\n",
        "if __name__ == \"__main__\":\n",
        "    # Datos de entrenamiento (X) y salidas deseadas (D)\n",
        "    X = np.array([[0, 0], [0, 1], [1, 0], [1, 1]])\n",
        "    D = np.array([0, 1, 1, 0])  # Ejemplo para compuerta XOR\n",
        "    alpha = 0.1  # Coeficiente de aprendizaje\n",
        "\n",
        "    # Lista de funciones de activación\n",
        "    funciones = {\n",
        "        \"Lineal\": funcion_lineal,\n",
        "        \"Escalón\": funcion_escalon,\n",
        "        \"Sigmoide\": funcion_sigmoide,\n",
        "        \"ReLU\": funcion_relu\n",
        "    }\n",
        "\n",
        "    # Entrenamos el modelo para cada función de activación\n",
        "    for nombre, funcion in funciones.items():\n",
        "        print(f\"\\nEntrenando con función de activación: {nombre}\")\n",
        "        W, theta = algoritmo_entrenamiento(X, D, alpha, funcion)\n",
        "        print(\"Pesos entrenados:\", W)\n",
        "        print(\"Umbral entrenado:\", theta)\n"
      ]
    }
  ]
}